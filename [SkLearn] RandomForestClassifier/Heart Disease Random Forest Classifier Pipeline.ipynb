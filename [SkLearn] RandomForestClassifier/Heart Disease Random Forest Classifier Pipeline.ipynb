{
 "cells": [
  {
   "cell_type": "markdown",
   "metadata": {},
   "source": [
    "# Heart Disease Random Forest Classifier\n",
    "\n",
    "In this example we use the Heart Disease data from\n",
    "https://www.kaggle.com/ronitf/heart-disease-uci\n",
    "\n",
    "We train a pipeline composed of a DictVectorizer, RobustScaler and a RandomForest classifier and deploy it on Blazee."
   ]
  },
  {
   "cell_type": "code",
   "execution_count": 1,
   "metadata": {},
   "outputs": [
    {
     "data": {
      "text/html": [
       "<div>\n",
       "<style scoped>\n",
       "    .dataframe tbody tr th:only-of-type {\n",
       "        vertical-align: middle;\n",
       "    }\n",
       "\n",
       "    .dataframe tbody tr th {\n",
       "        vertical-align: top;\n",
       "    }\n",
       "\n",
       "    .dataframe thead th {\n",
       "        text-align: right;\n",
       "    }\n",
       "</style>\n",
       "<table border=\"1\" class=\"dataframe\">\n",
       "  <thead>\n",
       "    <tr style=\"text-align: right;\">\n",
       "      <th></th>\n",
       "      <th>age</th>\n",
       "      <th>sex</th>\n",
       "      <th>cp</th>\n",
       "      <th>trestbps</th>\n",
       "      <th>chol</th>\n",
       "      <th>fbs</th>\n",
       "      <th>restecg</th>\n",
       "      <th>thalach</th>\n",
       "      <th>exang</th>\n",
       "      <th>oldpeak</th>\n",
       "      <th>slope</th>\n",
       "      <th>ca</th>\n",
       "      <th>thal</th>\n",
       "      <th>target</th>\n",
       "    </tr>\n",
       "  </thead>\n",
       "  <tbody>\n",
       "    <tr>\n",
       "      <th>0</th>\n",
       "      <td>63</td>\n",
       "      <td>1</td>\n",
       "      <td>3</td>\n",
       "      <td>145</td>\n",
       "      <td>233</td>\n",
       "      <td>1</td>\n",
       "      <td>0</td>\n",
       "      <td>150</td>\n",
       "      <td>0</td>\n",
       "      <td>2.3</td>\n",
       "      <td>0</td>\n",
       "      <td>0</td>\n",
       "      <td>1</td>\n",
       "      <td>1</td>\n",
       "    </tr>\n",
       "    <tr>\n",
       "      <th>1</th>\n",
       "      <td>37</td>\n",
       "      <td>1</td>\n",
       "      <td>2</td>\n",
       "      <td>130</td>\n",
       "      <td>250</td>\n",
       "      <td>0</td>\n",
       "      <td>1</td>\n",
       "      <td>187</td>\n",
       "      <td>0</td>\n",
       "      <td>3.5</td>\n",
       "      <td>0</td>\n",
       "      <td>0</td>\n",
       "      <td>2</td>\n",
       "      <td>1</td>\n",
       "    </tr>\n",
       "    <tr>\n",
       "      <th>2</th>\n",
       "      <td>41</td>\n",
       "      <td>0</td>\n",
       "      <td>1</td>\n",
       "      <td>130</td>\n",
       "      <td>204</td>\n",
       "      <td>0</td>\n",
       "      <td>0</td>\n",
       "      <td>172</td>\n",
       "      <td>0</td>\n",
       "      <td>1.4</td>\n",
       "      <td>2</td>\n",
       "      <td>0</td>\n",
       "      <td>2</td>\n",
       "      <td>1</td>\n",
       "    </tr>\n",
       "    <tr>\n",
       "      <th>3</th>\n",
       "      <td>56</td>\n",
       "      <td>1</td>\n",
       "      <td>1</td>\n",
       "      <td>120</td>\n",
       "      <td>236</td>\n",
       "      <td>0</td>\n",
       "      <td>1</td>\n",
       "      <td>178</td>\n",
       "      <td>0</td>\n",
       "      <td>0.8</td>\n",
       "      <td>2</td>\n",
       "      <td>0</td>\n",
       "      <td>2</td>\n",
       "      <td>1</td>\n",
       "    </tr>\n",
       "    <tr>\n",
       "      <th>4</th>\n",
       "      <td>57</td>\n",
       "      <td>0</td>\n",
       "      <td>0</td>\n",
       "      <td>120</td>\n",
       "      <td>354</td>\n",
       "      <td>0</td>\n",
       "      <td>1</td>\n",
       "      <td>163</td>\n",
       "      <td>1</td>\n",
       "      <td>0.6</td>\n",
       "      <td>2</td>\n",
       "      <td>0</td>\n",
       "      <td>2</td>\n",
       "      <td>1</td>\n",
       "    </tr>\n",
       "    <tr>\n",
       "      <th>5</th>\n",
       "      <td>57</td>\n",
       "      <td>1</td>\n",
       "      <td>0</td>\n",
       "      <td>140</td>\n",
       "      <td>192</td>\n",
       "      <td>0</td>\n",
       "      <td>1</td>\n",
       "      <td>148</td>\n",
       "      <td>0</td>\n",
       "      <td>0.4</td>\n",
       "      <td>1</td>\n",
       "      <td>0</td>\n",
       "      <td>1</td>\n",
       "      <td>1</td>\n",
       "    </tr>\n",
       "    <tr>\n",
       "      <th>6</th>\n",
       "      <td>56</td>\n",
       "      <td>0</td>\n",
       "      <td>1</td>\n",
       "      <td>140</td>\n",
       "      <td>294</td>\n",
       "      <td>0</td>\n",
       "      <td>0</td>\n",
       "      <td>153</td>\n",
       "      <td>0</td>\n",
       "      <td>1.3</td>\n",
       "      <td>1</td>\n",
       "      <td>0</td>\n",
       "      <td>2</td>\n",
       "      <td>1</td>\n",
       "    </tr>\n",
       "    <tr>\n",
       "      <th>7</th>\n",
       "      <td>44</td>\n",
       "      <td>1</td>\n",
       "      <td>1</td>\n",
       "      <td>120</td>\n",
       "      <td>263</td>\n",
       "      <td>0</td>\n",
       "      <td>1</td>\n",
       "      <td>173</td>\n",
       "      <td>0</td>\n",
       "      <td>0.0</td>\n",
       "      <td>2</td>\n",
       "      <td>0</td>\n",
       "      <td>3</td>\n",
       "      <td>1</td>\n",
       "    </tr>\n",
       "    <tr>\n",
       "      <th>8</th>\n",
       "      <td>52</td>\n",
       "      <td>1</td>\n",
       "      <td>2</td>\n",
       "      <td>172</td>\n",
       "      <td>199</td>\n",
       "      <td>1</td>\n",
       "      <td>1</td>\n",
       "      <td>162</td>\n",
       "      <td>0</td>\n",
       "      <td>0.5</td>\n",
       "      <td>2</td>\n",
       "      <td>0</td>\n",
       "      <td>3</td>\n",
       "      <td>1</td>\n",
       "    </tr>\n",
       "    <tr>\n",
       "      <th>9</th>\n",
       "      <td>57</td>\n",
       "      <td>1</td>\n",
       "      <td>2</td>\n",
       "      <td>150</td>\n",
       "      <td>168</td>\n",
       "      <td>0</td>\n",
       "      <td>1</td>\n",
       "      <td>174</td>\n",
       "      <td>0</td>\n",
       "      <td>1.6</td>\n",
       "      <td>2</td>\n",
       "      <td>0</td>\n",
       "      <td>2</td>\n",
       "      <td>1</td>\n",
       "    </tr>\n",
       "  </tbody>\n",
       "</table>\n",
       "</div>"
      ],
      "text/plain": [
       "   age  sex  cp  trestbps  chol  fbs  restecg  thalach  exang  oldpeak  slope  \\\n",
       "0   63    1   3       145   233    1        0      150      0      2.3      0   \n",
       "1   37    1   2       130   250    0        1      187      0      3.5      0   \n",
       "2   41    0   1       130   204    0        0      172      0      1.4      2   \n",
       "3   56    1   1       120   236    0        1      178      0      0.8      2   \n",
       "4   57    0   0       120   354    0        1      163      1      0.6      2   \n",
       "5   57    1   0       140   192    0        1      148      0      0.4      1   \n",
       "6   56    0   1       140   294    0        0      153      0      1.3      1   \n",
       "7   44    1   1       120   263    0        1      173      0      0.0      2   \n",
       "8   52    1   2       172   199    1        1      162      0      0.5      2   \n",
       "9   57    1   2       150   168    0        1      174      0      1.6      2   \n",
       "\n",
       "   ca  thal  target  \n",
       "0   0     1       1  \n",
       "1   0     2       1  \n",
       "2   0     2       1  \n",
       "3   0     2       1  \n",
       "4   0     2       1  \n",
       "5   0     1       1  \n",
       "6   0     2       1  \n",
       "7   0     3       1  \n",
       "8   0     3       1  \n",
       "9   0     2       1  "
      ]
     },
     "execution_count": 1,
     "metadata": {},
     "output_type": "execute_result"
    }
   ],
   "source": [
    "import pandas as pd\n",
    "import numpy as np\n",
    "import logging\n",
    "logging.getLogger().setLevel(logging.INFO)\n",
    "\n",
    "# Load the Data\n",
    "df = pd.read_csv('./data/heart.csv')\n",
    "df.head(10)"
   ]
  },
  {
   "cell_type": "code",
   "execution_count": 2,
   "metadata": {},
   "outputs": [
    {
     "data": {
      "text/plain": [
       "{'age': 48,\n",
       " 'sex': 1,\n",
       " 'cp': 0,\n",
       " 'trestbps': 130,\n",
       " 'chol': 256,\n",
       " 'fbs': 1,\n",
       " 'restecg': 0,\n",
       " 'thalach': 150,\n",
       " 'exang': 1,\n",
       " 'oldpeak': 0.0,\n",
       " 'slope': 2,\n",
       " 'ca': 2,\n",
       " 'thal': 3}"
      ]
     },
     "execution_count": 2,
     "metadata": {},
     "output_type": "execute_result"
    }
   ],
   "source": [
    "from sklearn.model_selection import train_test_split\n",
    "\n",
    "# Split the data into train/test sets\n",
    "X = df.drop(['target'], axis = 1)\n",
    "y = df['target']\n",
    "# y = y[:, np.newaxis]\n",
    "X_train, X_test, y_train, y_test = train_test_split(X, y, test_size = 0.33, random_state = 101)\n",
    "\n",
    "# Transform the features to a list of dict, which is the\n",
    "# expected input of our pipeline\n",
    "X_train = X_train.to_dict(orient = 'records')\n",
    "X_test = X_test.to_dict(orient = 'records')\n",
    "X_train[0]"
   ]
  },
  {
   "cell_type": "code",
   "execution_count": 3,
   "metadata": {},
   "outputs": [
    {
     "data": {
      "text/plain": [
       "0.82"
      ]
     },
     "execution_count": 3,
     "metadata": {},
     "output_type": "execute_result"
    }
   ],
   "source": [
    "from sklearn.pipeline import make_pipeline\n",
    "from sklearn.feature_extraction import DictVectorizer\n",
    "from sklearn.preprocessing import RobustScaler\n",
    "from sklearn.ensemble import RandomForestClassifier\n",
    "\n",
    "# Create a Pipeline that transforms and scales the data\n",
    "# followed by a RandomForest classifier\n",
    "pipeline = make_pipeline(DictVectorizer(sparse=False),\n",
    "                         RobustScaler(),\n",
    "                         RandomForestClassifier(n_estimators=1000, random_state=10))\n",
    "\n",
    "# Train the pipeline\n",
    "pipeline.fit(X_train, y_train)\n",
    "pipeline.score(X_test, y_test)"
   ]
  },
  {
   "cell_type": "code",
   "execution_count": 8,
   "metadata": {},
   "outputs": [
    {
     "name": "stderr",
     "output_type": "stream",
     "text": [
      "INFO:root:Uploading model version to Blazee  (5.428464 MB)...\n",
      "INFO:root:Deploying new model version: v1...\n",
      "INFO:root:Successfully deployed model version 5afa5b86-d0a7-412c-b5f5-5bc55942be45\n"
     ]
    },
    {
     "data": {
      "text/plain": [
       "[<BlazeeModel 'Pima'\n",
       " \tid=078d1904-d032-4b66-87b8-fb15e4a08bc3>, <BlazeeModel 'HeartDisease RF2'\n",
       " \tid=a872fb60-e749-4294-9783-d5df2341d48d>]"
      ]
     },
     "execution_count": 8,
     "metadata": {},
     "output_type": "execute_result"
    }
   ],
   "source": [
    "import blazee\n",
    "import os\n",
    "\n",
    "# Deploy the model on Blazee\n",
    "api_key = os.environ['BLAZEE_API_KEY']\n",
    "bz = blazee.Blazee(api_key)\n",
    "model = bz.deploy_model(pipeline, model_name=\"HeartDisease RF2\")\n",
    "bz.all_models()"
   ]
  },
  {
   "cell_type": "code",
   "execution_count": 9,
   "metadata": {},
   "outputs": [
    {
     "name": "stdout",
     "output_type": "stream",
     "text": [
      "<Prediction\n",
      "\tprediction=0\n",
      "\tprobas=[0.874, 0.126]>\n",
      "<Prediction\n",
      "\tprediction=1\n",
      "\tprobas=[0.204, 0.796]>\n",
      "<Prediction\n",
      "\tprediction=1\n",
      "\tprobas=[0.253, 0.747]>\n"
     ]
    }
   ],
   "source": [
    "# Make sure predictions work as expected\n",
    "local_predictions = pipeline.predict(X_test)\n",
    "local_probas = pipeline.predict_proba(X_test)\n",
    "\n",
    "blazee_preds = model.predict_batch(X_test[:3])\n",
    "for i, pred in enumerate(blazee_preds):\n",
    "    print(pred)\n",
    "    assert pred.prediction == local_predictions[i]\n",
    "    assert (pred.probas == local_probas[i]).all()"
   ]
  },
  {
   "cell_type": "code",
   "execution_count": 10,
   "metadata": {},
   "outputs": [
    {
     "name": "stderr",
     "output_type": "stream",
     "text": [
      "/Users/nbarraille/dev/blazee/blazee-examples/.venv/lib/python3.7/site-packages/sklearn/linear_model/stochastic_gradient.py:183: FutureWarning: max_iter and tol parameters have been added in SGDClassifier in 0.19. If max_iter is set but tol is left unset, the default value for tol in 0.19 and 0.20 will be None (which is equivalent to -infinity, so it has no effect) but will change in 0.21 to 1e-3. Specify tol to silence this warning.\n",
      "  FutureWarning)\n"
     ]
    },
    {
     "data": {
      "text/plain": [
       "0.88"
      ]
     },
     "execution_count": 10,
     "metadata": {},
     "output_type": "execute_result"
    }
   ],
   "source": [
    "from sklearn.linear_model import SGDClassifier\n",
    "\n",
    "# We then train a new pipeline using a SGD Classifier,\n",
    "# and realize it is performing better on the test set\n",
    "pipeline2 = make_pipeline(DictVectorizer(sparse=False),\n",
    "                         RobustScaler(),\n",
    "                         SGDClassifier(max_iter=1000))\n",
    "pipeline2.fit(X_train, y_train)\n",
    "pipeline2.score(X_test, y_test)"
   ]
  },
  {
   "cell_type": "code",
   "execution_count": 11,
   "metadata": {},
   "outputs": [
    {
     "name": "stderr",
     "output_type": "stream",
     "text": [
      "INFO:root:Uploading model version to Blazee  (2.317383 KB)...\n",
      "INFO:root:Deploying new model version: v2...\n",
      "INFO:root:Successfully deployed model version 25f71e6c-8d08-4fa2-9a8e-97913bb49cb3\n"
     ]
    },
    {
     "data": {
      "text/plain": [
       "<BlazeeModel 'HeartDisease RF2'\n",
       "\tid=a872fb60-e749-4294-9783-d5df2341d48d>"
      ]
     },
     "execution_count": 11,
     "metadata": {},
     "output_type": "execute_result"
    }
   ],
   "source": [
    "# We upload the new version of the model on Blazee\n",
    "model.update(pipeline2)"
   ]
  },
  {
   "cell_type": "code",
   "execution_count": 12,
   "metadata": {},
   "outputs": [
    {
     "data": {
      "text/plain": [
       "[<ModelVersion 'HeartDisease RF2' @ v1\n",
       " \tid=5afa5b86-d0a7-412c-b5f5-5bc55942be45\n",
       " \tdeployed=True\n",
       " \tcreated_at=2019-04-12 09:20:03+00:00>, <ModelVersion 'HeartDisease RF2' @ v2\n",
       " \tid=25f71e6c-8d08-4fa2-9a8e-97913bb49cb3\n",
       " \tdeployed=True\n",
       " \tcreated_at=2019-04-12 09:21:44+00:00>]"
      ]
     },
     "execution_count": 12,
     "metadata": {},
     "output_type": "execute_result"
    }
   ],
   "source": [
    "# The model has 2 versions now\n",
    "model.versions()"
   ]
  },
  {
   "cell_type": "code",
   "execution_count": 14,
   "metadata": {},
   "outputs": [
    {
     "name": "stdout",
     "output_type": "stream",
     "text": [
      "Default version: v1\n",
      "Pred from V1: <Prediction\n",
      "\tprediction=0\n",
      "\tprobas=[0.874, 0.126]>\n",
      "Pred from V2: <Prediction\n",
      "\tprediction=0\n",
      "\tprobas=None>\n",
      "^ V2 prediction has no probas, as it is using \"hinge\" loss\n",
      "Pred from model: <Prediction\n",
      "\tprediction=0\n",
      "\tprobas=[0.874, 0.126]>\n"
     ]
    }
   ],
   "source": [
    "# It is still using the v1 as the default version\n",
    "print(\"Default version: \" + model.default_version.name)\n",
    "v1 = model.get_version('v1')\n",
    "v2 = model.get_version('v2')\n",
    "\n",
    "# This means that making predictions will still use v1\n",
    "v1_prediction = v1.predict(X_test[0])\n",
    "print(f'Pred from V1: {v1_prediction}')\n",
    "v2_prediction = v2.predict(X_test[0])\n",
    "print(f'Pred from V2: {v2_prediction}')\n",
    "print('^ V2 prediction has no probas, as it is using \"hinge\" loss')\n",
    "model_prediction = model.predict(X_test[0])\n",
    "print(f'Pred from model: {model_prediction}')\n",
    "\n",
    "assert model_prediction.prediction == v1_prediction.prediction\n",
    "assert model_prediction.probas == v1_prediction.probas"
   ]
  },
  {
   "cell_type": "code",
   "execution_count": 15,
   "metadata": {},
   "outputs": [
    {
     "name": "stdout",
     "output_type": "stream",
     "text": [
      "Default version: v2\n",
      "Pred from model: <Prediction\n",
      "\tprediction=0\n",
      "\tprobas=None>\n"
     ]
    }
   ],
   "source": [
    "# Now, we tested v2 a bunch and want to set it to production so we make it the default version\n",
    "v2.make_default()\n",
    "\n",
    "\n",
    "print(\"Default version: \" + model.default_version.name)\n",
    "\n",
    "# Making predictions from this model will use v2 now\n",
    "model_prediction = model.predict(X_test[0])\n",
    "print(f'Pred from model: {model_prediction}')\n",
    "\n",
    "assert model_prediction.prediction == v2_prediction.prediction\n",
    "assert model_prediction.probas == v2_prediction.probas\n"
   ]
  },
  {
   "cell_type": "code",
   "execution_count": null,
   "metadata": {},
   "outputs": [],
   "source": []
  }
 ],
 "metadata": {
  "kernelspec": {
   "display_name": "Python 3",
   "language": "python",
   "name": "python3"
  },
  "language_info": {
   "codemirror_mode": {
    "name": "ipython",
    "version": 3
   },
   "file_extension": ".py",
   "mimetype": "text/x-python",
   "name": "python",
   "nbconvert_exporter": "python",
   "pygments_lexer": "ipython3",
   "version": "3.7.3"
  }
 },
 "nbformat": 4,
 "nbformat_minor": 2
}
