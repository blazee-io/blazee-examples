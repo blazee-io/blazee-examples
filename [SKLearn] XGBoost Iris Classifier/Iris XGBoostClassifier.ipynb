{
 "cells": [
  {
   "cell_type": "code",
   "execution_count": 24,
   "metadata": {},
   "outputs": [
    {
     "data": {
      "text/html": [
       "<div>\n",
       "<style scoped>\n",
       "    .dataframe tbody tr th:only-of-type {\n",
       "        vertical-align: middle;\n",
       "    }\n",
       "\n",
       "    .dataframe tbody tr th {\n",
       "        vertical-align: top;\n",
       "    }\n",
       "\n",
       "    .dataframe thead th {\n",
       "        text-align: right;\n",
       "    }\n",
       "</style>\n",
       "<table border=\"1\" class=\"dataframe\">\n",
       "  <thead>\n",
       "    <tr style=\"text-align: right;\">\n",
       "      <th></th>\n",
       "      <th>SepalLengthCm</th>\n",
       "      <th>SepalWidthCm</th>\n",
       "      <th>PetalLengthCm</th>\n",
       "      <th>PetalWidthCm</th>\n",
       "    </tr>\n",
       "  </thead>\n",
       "  <tbody>\n",
       "    <tr>\n",
       "      <th>92</th>\n",
       "      <td>5.8</td>\n",
       "      <td>2.6</td>\n",
       "      <td>4.0</td>\n",
       "      <td>1.2</td>\n",
       "    </tr>\n",
       "    <tr>\n",
       "      <th>69</th>\n",
       "      <td>5.6</td>\n",
       "      <td>2.5</td>\n",
       "      <td>3.9</td>\n",
       "      <td>1.1</td>\n",
       "    </tr>\n",
       "    <tr>\n",
       "      <th>1</th>\n",
       "      <td>4.9</td>\n",
       "      <td>3.0</td>\n",
       "      <td>1.4</td>\n",
       "      <td>0.2</td>\n",
       "    </tr>\n",
       "    <tr>\n",
       "      <th>61</th>\n",
       "      <td>5.9</td>\n",
       "      <td>3.0</td>\n",
       "      <td>4.2</td>\n",
       "      <td>1.5</td>\n",
       "    </tr>\n",
       "    <tr>\n",
       "      <th>59</th>\n",
       "      <td>5.2</td>\n",
       "      <td>2.7</td>\n",
       "      <td>3.9</td>\n",
       "      <td>1.4</td>\n",
       "    </tr>\n",
       "  </tbody>\n",
       "</table>\n",
       "</div>"
      ],
      "text/plain": [
       "    SepalLengthCm  SepalWidthCm  PetalLengthCm  PetalWidthCm\n",
       "92            5.8           2.6            4.0           1.2\n",
       "69            5.6           2.5            3.9           1.1\n",
       "1             4.9           3.0            1.4           0.2\n",
       "61            5.9           3.0            4.2           1.5\n",
       "59            5.2           2.7            3.9           1.4"
      ]
     },
     "execution_count": 24,
     "metadata": {},
     "output_type": "execute_result"
    }
   ],
   "source": [
    "import pandas as pd\n",
    "from sklearn.model_selection import train_test_split\n",
    "from sklearn.preprocessing import LabelEncoder\n",
    "\n",
    "# Load the Iris dataset\n",
    "data = pd.read_csv('Iris.csv')\n",
    "X = data.drop(['Id', 'Species'], axis=1)\n",
    "Y = data['Species']\n",
    "\n",
    "# encode string class values as integers\n",
    "label_encoder = LabelEncoder()\n",
    "label_encoder = label_encoder.fit(Y)\n",
    "label_encoded_y = label_encoder.transform(Y)\n",
    "\n",
    "X_train, X_test, y_train, y_test = train_test_split(X, label_encoded_y, test_size=0.3)\n",
    "X_train.head()"
   ]
  },
  {
   "cell_type": "code",
   "execution_count": 30,
   "metadata": {},
   "outputs": [
    {
     "data": {
      "text/plain": [
       "XGBClassifier(base_score=0.5, booster='gbtree', colsample_bylevel=1,\n",
       "       colsample_bytree=1, gamma=0, learning_rate=0.1, max_delta_step=0,\n",
       "       max_depth=3, min_child_weight=1, missing=None, n_estimators=100,\n",
       "       n_jobs=1, nthread=None, objective='multi:softprob', random_state=0,\n",
       "       reg_alpha=0, reg_lambda=1, scale_pos_weight=1, seed=None,\n",
       "       silent=True, subsample=1)"
      ]
     },
     "execution_count": 30,
     "metadata": {},
     "output_type": "execute_result"
    }
   ],
   "source": [
    "import xgboost\n",
    "\n",
    "# Train an XGBoost classifier\n",
    "model = xgboost.XGBClassifier()\n",
    "# With XGBoost, using the Dataframe during fit will name columns and same column names\n",
    "# will be expected during prediction. Use .values to avoid that.\n",
    "model.fit(X_train.values, y_train)\n",
    "model"
   ]
  },
  {
   "cell_type": "code",
   "execution_count": 32,
   "metadata": {},
   "outputs": [
    {
     "name": "stdout",
     "output_type": "stream",
     "text": [
      "Accuracy: 95.56%\n"
     ]
    }
   ],
   "source": [
    "from sklearn.metrics import accuracy_score\n",
    "\n",
    "# make predictions for test data\n",
    "y_pred = model.predict(X_test.values)\n",
    "predictions = [round(value) for value in y_pred]\n",
    "# evaluate predictions\n",
    "accuracy = accuracy_score(y_test, predictions)\n",
    "print(\"Accuracy: %.2f%%\" % (accuracy * 100.0))"
   ]
  },
  {
   "cell_type": "code",
   "execution_count": 36,
   "metadata": {},
   "outputs": [
    {
     "name": "stdout",
     "output_type": "stream",
     "text": [
      "The autoreload extension is already loaded. To reload it, use:\n",
      "  %reload_ext autoreload\n"
     ]
    },
    {
     "name": "stderr",
     "output_type": "stream",
     "text": [
      "INFO:root:Uploading model version to Blazee  (89.4 KB)...\n",
      "INFO:root:Deploying new model version: v1...\n",
      "INFO:root:Successfully deployed model version d49330ad-7fdf-41b5-ae8e-e6f6380965ca\n"
     ]
    },
    {
     "data": {
      "text/plain": [
       "<BlazeeModel 'Iris XGBoost'\n",
       "\tid=d33c8f5b-d3bc-471c-bd59-8c97abf753ad>"
      ]
     },
     "execution_count": 36,
     "metadata": {},
     "output_type": "execute_result"
    }
   ],
   "source": [
    "import blazee\n",
    "import os\n",
    "import logging\n",
    "logging.basicConfig(level=logging.INFO)\n",
    "%load_ext autoreload\n",
    "%autoreload 2\n",
    "\n",
    "# Deploy the model on Blazee\n",
    "api_key = os.environ['BLAZEE_API_KEY']\n",
    "bz = blazee.Blazee(api_key)\n",
    "bm = bz.deploy_model(model, model_name=\"Iris XGBoost\")\n",
    "bm"
   ]
  },
  {
   "cell_type": "code",
   "execution_count": 37,
   "metadata": {},
   "outputs": [
    {
     "data": {
      "text/plain": [
       "array([0, 0, 2, 0, 0, 1, 0, 1, 2, 0, 1, 0, 0, 0, 1, 1, 2, 2, 2, 2, 2, 2,\n",
       "       1, 0, 1, 1, 0, 1, 1, 2, 0, 1, 1, 1, 0, 2, 0, 2, 2, 2, 2, 1, 0, 0,\n",
       "       0])"
      ]
     },
     "execution_count": 37,
     "metadata": {},
     "output_type": "execute_result"
    }
   ],
   "source": [
    "# Get local prediction\n",
    "model.predict(X_test.values)"
   ]
  },
  {
   "cell_type": "code",
   "execution_count": 38,
   "metadata": {},
   "outputs": [
    {
     "data": {
      "text/plain": [
       "[<Prediction\n",
       " \tprediction=0\n",
       " \tprobas=[0.9905564785003662, 0.006627298891544342, 0.002816158812493086]>,\n",
       " <Prediction\n",
       " \tprediction=0\n",
       " \tprobas=[0.9905564785003662, 0.006627298891544342, 0.002816158812493086]>,\n",
       " <Prediction\n",
       " \tprediction=2\n",
       " \tprobas=[0.0019656538497656584, 0.00400379067286849, 0.9940305352210999]>,\n",
       " <Prediction\n",
       " \tprediction=0\n",
       " \tprobas=[0.9905564785003662, 0.006627298891544342, 0.002816158812493086]>,\n",
       " <Prediction\n",
       " \tprediction=0\n",
       " \tprobas=[0.9905564785003662, 0.006627298891544342, 0.002816158812493086]>,\n",
       " <Prediction\n",
       " \tprediction=1\n",
       " \tprobas=[0.005762933753430843, 0.9899953603744507, 0.0042416928336024284]>,\n",
       " <Prediction\n",
       " \tprediction=0\n",
       " \tprobas=[0.9905564785003662, 0.006627298891544342, 0.002816158812493086]>,\n",
       " <Prediction\n",
       " \tprediction=1\n",
       " \tprobas=[0.0038656354881823063, 0.99187171459198, 0.004262637812644243]>,\n",
       " <Prediction\n",
       " \tprediction=2\n",
       " \tprobas=[0.0024955570697784424, 0.005083135329186916, 0.9924213290214539]>,\n",
       " <Prediction\n",
       " \tprediction=0\n",
       " \tprobas=[0.981600284576416, 0.0156089561060071, 0.002790696220472455]>,\n",
       " <Prediction\n",
       " \tprediction=1\n",
       " \tprobas=[0.004974305629730225, 0.9913644790649414, 0.0036612371914088726]>,\n",
       " <Prediction\n",
       " \tprediction=0\n",
       " \tprobas=[0.9905564785003662, 0.006627298891544342, 0.002816158812493086]>,\n",
       " <Prediction\n",
       " \tprediction=0\n",
       " \tprobas=[0.9905564785003662, 0.006627298891544342, 0.002816158812493086]>,\n",
       " <Prediction\n",
       " \tprediction=0\n",
       " \tprobas=[0.9894456267356873, 0.006619866471737623, 0.003934560343623161]>,\n",
       " <Prediction\n",
       " \tprediction=1\n",
       " \tprobas=[0.004127935506403446, 0.99000084400177, 0.005871201865375042]>,\n",
       " <Prediction\n",
       " \tprediction=1\n",
       " \tprobas=[0.00413511460646987, 0.9917226433753967, 0.00414222851395607]>,\n",
       " <Prediction\n",
       " \tprediction=2\n",
       " \tprobas=[0.0019656538497656584, 0.00400379067286849, 0.9940305352210999]>,\n",
       " <Prediction\n",
       " \tprediction=2\n",
       " \tprobas=[0.0024955570697784424, 0.005083135329186916, 0.9924213290214539]>,\n",
       " <Prediction\n",
       " \tprediction=2\n",
       " \tprobas=[0.0019656538497656584, 0.00400379067286849, 0.9940305352210999]>,\n",
       " <Prediction\n",
       " \tprediction=2\n",
       " \tprobas=[0.0024583025369793177, 0.005007252562791109, 0.9925343990325928]>,\n",
       " <Prediction\n",
       " \tprediction=2\n",
       " \tprobas=[0.008275847882032394, 0.019588198512792587, 0.9721359610557556]>,\n",
       " <Prediction\n",
       " \tprediction=2\n",
       " \tprobas=[0.008286448195576668, 0.01833236962556839, 0.9733812212944031]>,\n",
       " <Prediction\n",
       " \tprediction=1\n",
       " \tprobas=[0.004974305629730225, 0.9913644790649414, 0.0036612371914088726]>,\n",
       " <Prediction\n",
       " \tprediction=0\n",
       " \tprobas=[0.9905564785003662, 0.006627298891544342, 0.002816158812493086]>,\n",
       " <Prediction\n",
       " \tprediction=1\n",
       " \tprobas=[0.004122659098356962, 0.9887354969978333, 0.007141862530261278]>,\n",
       " <Prediction\n",
       " \tprediction=1\n",
       " \tprobas=[0.005756335332989693, 0.9888618588447571, 0.005381790921092033]>,\n",
       " <Prediction\n",
       " \tprediction=0\n",
       " \tprobas=[0.9837198257446289, 0.013483382761478424, 0.002796722110360861]>,\n",
       " <Prediction\n",
       " \tprediction=1\n",
       " \tprobas=[0.00548307690769434, 0.865344226360321, 0.129172682762146]>,\n",
       " <Prediction\n",
       " \tprediction=1\n",
       " \tprobas=[0.004974029958248138, 0.9913095235824585, 0.003716423176229]>,\n",
       " <Prediction\n",
       " \tprediction=2\n",
       " \tprobas=[0.0020987456664443016, 0.0042748828418552876, 0.9936263561248779]>,\n",
       " <Prediction\n",
       " \tprediction=0\n",
       " \tprobas=[0.9905564785003662, 0.006627298891544342, 0.002816158812493086]>,\n",
       " <Prediction\n",
       " \tprediction=1\n",
       " \tprobas=[0.00413511460646987, 0.9917226433753967, 0.00414222851395607]>,\n",
       " <Prediction\n",
       " \tprediction=1\n",
       " \tprobas=[0.003860865253955126, 0.9906477332115173, 0.005491346120834351]>,\n",
       " <Prediction\n",
       " \tprediction=1\n",
       " \tprobas=[0.005762933753430843, 0.9899953603744507, 0.0042416928336024284]>,\n",
       " <Prediction\n",
       " \tprediction=0\n",
       " \tprobas=[0.981600284576416, 0.0156089561060071, 0.002790696220472455]>,\n",
       " <Prediction\n",
       " \tprediction=2\n",
       " \tprobas=[0.006773057859390974, 0.009341179393231869, 0.9838857650756836]>,\n",
       " <Prediction\n",
       " \tprediction=0\n",
       " \tprobas=[0.9905564785003662, 0.006627298891544342, 0.002816158812493086]>,\n",
       " <Prediction\n",
       " \tprediction=2\n",
       " \tprobas=[0.0024624341167509556, 0.02297002635896206, 0.9745675921440125]>,\n",
       " <Prediction\n",
       " \tprediction=2\n",
       " \tprobas=[0.0019656538497656584, 0.00400379067286849, 0.9940305352210999]>,\n",
       " <Prediction\n",
       " \tprediction=2\n",
       " \tprobas=[0.0024955570697784424, 0.005083135329186916, 0.9924213290214539]>,\n",
       " <Prediction\n",
       " \tprediction=2\n",
       " \tprobas=[0.0024955570697784424, 0.005083135329186916, 0.9924213290214539]>,\n",
       " <Prediction\n",
       " \tprediction=1\n",
       " \tprobas=[0.004127935506403446, 0.99000084400177, 0.005871201865375042]>,\n",
       " <Prediction\n",
       " \tprediction=0\n",
       " \tprobas=[0.9905564785003662, 0.006627298891544342, 0.002816158812493086]>,\n",
       " <Prediction\n",
       " \tprediction=0\n",
       " \tprobas=[0.9905564785003662, 0.006627298891544342, 0.002816158812493086]>,\n",
       " <Prediction\n",
       " \tprediction=0\n",
       " \tprobas=[0.9905564785003662, 0.006627298891544342, 0.002816158812493086]>]"
      ]
     },
     "execution_count": 38,
     "metadata": {},
     "output_type": "execute_result"
    }
   ],
   "source": [
    "bm.predict_batch(X_test.values)"
   ]
  },
  {
   "cell_type": "code",
   "execution_count": null,
   "metadata": {},
   "outputs": [],
   "source": []
  }
 ],
 "metadata": {
  "kernelspec": {
   "display_name": "Python 3",
   "language": "python",
   "name": "python3"
  },
  "language_info": {
   "codemirror_mode": {
    "name": "ipython",
    "version": 3
   },
   "file_extension": ".py",
   "mimetype": "text/x-python",
   "name": "python",
   "nbconvert_exporter": "python",
   "pygments_lexer": "ipython3",
   "version": "3.7.3"
  }
 },
 "nbformat": 4,
 "nbformat_minor": 2
}
